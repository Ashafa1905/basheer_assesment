{
 "cells": [
  {
   "cell_type": "markdown",
   "id": "5725cc70",
   "metadata": {},
   "source": [
    "# Question1"
   ]
  },
  {
   "cell_type": "code",
   "execution_count": 59,
   "id": "4ba9951c",
   "metadata": {},
   "outputs": [],
   "source": [
    "def weird_or_not (n):\n",
    "    if n%2 != 0:\n",
    "        print (\"Weird\")\n",
    "    else:\n",
    "        if 18%2 == 0 and 18>20:\n",
    "            print(\"Not weird\")\n"
   ]
  },
  {
   "cell_type": "code",
   "execution_count": 60,
   "id": "e4e93441",
   "metadata": {},
   "outputs": [
    {
     "name": "stdout",
     "output_type": "stream",
     "text": [
      "Weird\n"
     ]
    }
   ],
   "source": [
    "weird_or_not(11)"
   ]
  },
  {
   "cell_type": "markdown",
   "id": "4521a5eb",
   "metadata": {},
   "source": [
    "# Question 2"
   ]
  },
  {
   "cell_type": "code",
   "execution_count": 75,
   "id": "7903cbbf",
   "metadata": {},
   "outputs": [],
   "source": [
    "word= \"5 naira\"\n",
    "def cleaner (word):\n",
    "    list= []\n",
    "    for char in word:\n",
    "        if char != \" \" and not char.isdigit():\n",
    "            list+= char\n",
    "        else:\n",
    "            if char.isdigit() and int(char)<5:\n",
    "                list.append(char)\n",
    "    return list"
   ]
  },
  {
   "cell_type": "code",
   "execution_count": 76,
   "id": "f1ef5ab8",
   "metadata": {},
   "outputs": [
    {
     "data": {
      "text/plain": [
       "['n', 'a', 'i', 'r', 'a']"
      ]
     },
     "execution_count": 76,
     "metadata": {},
     "output_type": "execute_result"
    }
   ],
   "source": [
    "cleaner (\"5 naira\")"
   ]
  },
  {
   "cell_type": "markdown",
   "id": "4b56896a",
   "metadata": {},
   "source": [
    "# Question 3"
   ]
  },
  {
   "cell_type": "markdown",
   "id": "7b4be8a5",
   "metadata": {},
   "source": [
    "What is an Algorithm? (select the correct option)\n",
    "# Answer \n",
    "a well-defined set of instructions to solve a particular problem"
   ]
  }
 ],
 "metadata": {
  "kernelspec": {
   "display_name": "Python 3 (ipykernel)",
   "language": "python",
   "name": "python3"
  },
  "language_info": {
   "codemirror_mode": {
    "name": "ipython",
    "version": 3
   },
   "file_extension": ".py",
   "mimetype": "text/x-python",
   "name": "python",
   "nbconvert_exporter": "python",
   "pygments_lexer": "ipython3",
   "version": "3.9.7"
  }
 },
 "nbformat": 4,
 "nbformat_minor": 5
}
